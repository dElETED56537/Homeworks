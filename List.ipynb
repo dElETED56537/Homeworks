{
 "cells": [
  {
   "cell_type": "code",
   "execution_count": 71,
   "metadata": {
    "scrolled": false
   },
   "outputs": [],
   "source": [
    "import time, random\n",
    "\n",
    "numbers = random.sample(range(500000), 2000)"
   ]
  },
  {
   "cell_type": "code",
   "execution_count": 72,
   "metadata": {},
   "outputs": [],
   "source": [
    "# for\n",
    "def for_cycle():\n",
    "    sum = 0\n",
    "    for num in numbers:\n",
    "        sum += num\n",
    "    return sum"
   ]
  },
  {
   "cell_type": "code",
   "execution_count": 73,
   "metadata": {},
   "outputs": [],
   "source": [
    "# while\n",
    "def while_cycle():\n",
    "    sum = 0\n",
    "    i = 0\n",
    "    while i < len(numbers):\n",
    "        sum += numbers[i]\n",
    "        i += 1\n",
    "    return sum    "
   ]
  },
  {
   "cell_type": "code",
   "execution_count": 74,
   "metadata": {},
   "outputs": [],
   "source": [
    "# recursion\n",
    "def recursion(x):\n",
    "    if len(x) == 1:\n",
    "        return x[0]\n",
    "    else:\n",
    "        return x[0] + recursion(x[1:])\n",
    "    \n",
    "def recursion_sum():\n",
    "    return recursion(numbers)"
   ]
  },
  {
   "cell_type": "code",
   "execution_count": 75,
   "metadata": {},
   "outputs": [],
   "source": [
    "# time dec\n",
    "def timer(func):\n",
    "    def wrap():\n",
    "        start = time.perf_counter()\n",
    "        res = func()\n",
    "        end = time.perf_counter()\n",
    "        print('time:', '{0:.15f}'.format(end - start))\n",
    "        return res\n",
    "    return wrap"
   ]
  },
  {
   "cell_type": "code",
   "execution_count": 76,
   "metadata": {},
   "outputs": [],
   "source": [
    "@timer\n",
    "def time_for():\n",
    "    return for_cycle()\n",
    "\n",
    "@timer\n",
    "def time_while():\n",
    "    return while_cycle()\n",
    "\n",
    "@timer\n",
    "def time_recursion():\n",
    "    return recursion_sum()"
   ]
  },
  {
   "cell_type": "code",
   "execution_count": 77,
   "metadata": {
    "scrolled": true
   },
   "outputs": [
    {
     "name": "stdout",
     "output_type": "stream",
     "text": [
      "For sum\n",
      "time: 0.000279100000000\n",
      "502141123\n",
      "\n",
      "While sum\n",
      "time: 0.000757500000020\n",
      "502141123\n",
      "\n",
      "Recusion sum\n",
      "time: 0.044960000000003\n",
      "502141123\n"
     ]
    }
   ],
   "source": [
    "print(\"For sum\")\n",
    "print(time_for())\n",
    "print()\n",
    "print(\"While sum\")\n",
    "print(time_while())\n",
    "print()\n",
    "print(\"Recusion sum\")\n",
    "print(time_recursion())\n"
   ]
  },
  {
   "cell_type": "code",
   "execution_count": null,
   "metadata": {},
   "outputs": [],
   "source": []
  }
 ],
 "metadata": {
  "kernelspec": {
   "display_name": "Python 3",
   "language": "python",
   "name": "python3"
  },
  "language_info": {
   "codemirror_mode": {
    "name": "ipython",
    "version": 3
   },
   "file_extension": ".py",
   "mimetype": "text/x-python",
   "name": "python",
   "nbconvert_exporter": "python",
   "pygments_lexer": "ipython3",
   "version": "3.7.3"
  }
 },
 "nbformat": 4,
 "nbformat_minor": 2
}
